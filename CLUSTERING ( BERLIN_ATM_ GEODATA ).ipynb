{
 "cells": [
  {
   "cell_type": "markdown",
   "metadata": {},
   "source": [
    "# GEODATA Clustering "
   ]
  },
  {
   "cell_type": "markdown",
   "metadata": {},
   "source": [
    "The Data used in this notebook contains the geographic location of a number of ATMs in the Berlin area.\n",
    "We can use this data to form clusters for further analysis"
   ]
  },
  {
   "cell_type": "markdown",
   "metadata": {},
   "source": [
    "Import the relevant libraries"
   ]
  },
  {
   "cell_type": "code",
   "execution_count": 18,
   "metadata": {},
   "outputs": [],
   "source": [
    "import pandas as pd\n",
    "import matplotlib.pyplot as plt\n",
    "import seaborn as sns\n",
    "from pandas import DataFrame\n",
    "import json\n",
    "sns.set()\n",
    "from sklearn.cluster import KMeans"
   ]
  },
  {
   "cell_type": "markdown",
   "metadata": {},
   "source": [
    "Load the data"
   ]
  },
  {
   "cell_type": "markdown",
   "metadata": {},
   "source": [
    "Since we are dealing with a Json file format, we will need to convert it into a dataframe "
   ]
  },
  {
   "cell_type": "code",
   "execution_count": 37,
   "metadata": {},
   "outputs": [
    {
     "data": {
      "text/html": [
       "<div>\n",
       "<style scoped>\n",
       "    .dataframe tbody tr th:only-of-type {\n",
       "        vertical-align: middle;\n",
       "    }\n",
       "\n",
       "    .dataframe tbody tr th {\n",
       "        vertical-align: top;\n",
       "    }\n",
       "\n",
       "    .dataframe thead th {\n",
       "        text-align: right;\n",
       "    }\n",
       "</style>\n",
       "<table border=\"1\" class=\"dataframe\">\n",
       "  <thead>\n",
       "    <tr style=\"text-align: right;\">\n",
       "      <th></th>\n",
       "      <th>type</th>\n",
       "      <th>id</th>\n",
       "      <th>lat</th>\n",
       "      <th>lon</th>\n",
       "      <th>tags</th>\n",
       "    </tr>\n",
       "  </thead>\n",
       "  <tbody>\n",
       "    <tr>\n",
       "      <td>0</td>\n",
       "      <td>node</td>\n",
       "      <td>28968292</td>\n",
       "      <td>52.486668</td>\n",
       "      <td>13.319723</td>\n",
       "      <td>{'addr:city': 'Berlin', 'addr:country': 'DE', ...</td>\n",
       "    </tr>\n",
       "    <tr>\n",
       "      <td>1</td>\n",
       "      <td>node</td>\n",
       "      <td>28968295</td>\n",
       "      <td>52.489024</td>\n",
       "      <td>13.322494</td>\n",
       "      <td>{'amenity': 'bank', 'name': 'Postbank AG', 'op...</td>\n",
       "    </tr>\n",
       "    <tr>\n",
       "      <td>2</td>\n",
       "      <td>node</td>\n",
       "      <td>60848449</td>\n",
       "      <td>52.531741</td>\n",
       "      <td>13.469267</td>\n",
       "      <td>{'amenity': 'atm', 'name': 'Deutsche Bank', 'o...</td>\n",
       "    </tr>\n",
       "    <tr>\n",
       "      <td>3</td>\n",
       "      <td>node</td>\n",
       "      <td>60848455</td>\n",
       "      <td>52.530339</td>\n",
       "      <td>13.471082</td>\n",
       "      <td>{'addr:city': 'Berlin', 'addr:housenumber': '1...</td>\n",
       "    </tr>\n",
       "    <tr>\n",
       "      <td>4</td>\n",
       "      <td>node</td>\n",
       "      <td>60852951</td>\n",
       "      <td>52.524584</td>\n",
       "      <td>13.465439</td>\n",
       "      <td>{'amenity': 'bank', 'atm': 'yes', 'name': 'Ber...</td>\n",
       "    </tr>\n",
       "    <tr>\n",
       "      <td>...</td>\n",
       "      <td>...</td>\n",
       "      <td>...</td>\n",
       "      <td>...</td>\n",
       "      <td>...</td>\n",
       "      <td>...</td>\n",
       "    </tr>\n",
       "    <tr>\n",
       "      <td>1114</td>\n",
       "      <td>node</td>\n",
       "      <td>6010650298</td>\n",
       "      <td>52.440239</td>\n",
       "      <td>13.595590</td>\n",
       "      <td>{'amenity': 'atm', 'opening_hours': '24/7', 'o...</td>\n",
       "    </tr>\n",
       "    <tr>\n",
       "      <td>1115</td>\n",
       "      <td>node</td>\n",
       "      <td>6037152592</td>\n",
       "      <td>52.510562</td>\n",
       "      <td>13.437402</td>\n",
       "      <td>{'amenity': 'atm', 'currency:others': 'no', 'o...</td>\n",
       "    </tr>\n",
       "    <tr>\n",
       "      <td>1116</td>\n",
       "      <td>node</td>\n",
       "      <td>6044549331</td>\n",
       "      <td>52.508871</td>\n",
       "      <td>13.378956</td>\n",
       "      <td>{'amenity': 'bank', 'name': 'Deutsche Bank', '...</td>\n",
       "    </tr>\n",
       "    <tr>\n",
       "      <td>1117</td>\n",
       "      <td>node</td>\n",
       "      <td>6044549333</td>\n",
       "      <td>52.508887</td>\n",
       "      <td>13.377730</td>\n",
       "      <td>{'amenity': 'bank', 'atm': 'yes', 'name': 'Ber...</td>\n",
       "    </tr>\n",
       "    <tr>\n",
       "      <td>1118</td>\n",
       "      <td>node</td>\n",
       "      <td>6058229934</td>\n",
       "      <td>52.504957</td>\n",
       "      <td>13.442350</td>\n",
       "      <td>{'amenity': 'atm', 'brand': 'Sparkasse'}</td>\n",
       "    </tr>\n",
       "  </tbody>\n",
       "</table>\n",
       "<p>1119 rows × 5 columns</p>\n",
       "</div>"
      ],
      "text/plain": [
       "      type          id        lat        lon  \\\n",
       "0     node    28968292  52.486668  13.319723   \n",
       "1     node    28968295  52.489024  13.322494   \n",
       "2     node    60848449  52.531741  13.469267   \n",
       "3     node    60848455  52.530339  13.471082   \n",
       "4     node    60852951  52.524584  13.465439   \n",
       "...    ...         ...        ...        ...   \n",
       "1114  node  6010650298  52.440239  13.595590   \n",
       "1115  node  6037152592  52.510562  13.437402   \n",
       "1116  node  6044549331  52.508871  13.378956   \n",
       "1117  node  6044549333  52.508887  13.377730   \n",
       "1118  node  6058229934  52.504957  13.442350   \n",
       "\n",
       "                                                   tags  \n",
       "0     {'addr:city': 'Berlin', 'addr:country': 'DE', ...  \n",
       "1     {'amenity': 'bank', 'name': 'Postbank AG', 'op...  \n",
       "2     {'amenity': 'atm', 'name': 'Deutsche Bank', 'o...  \n",
       "3     {'addr:city': 'Berlin', 'addr:housenumber': '1...  \n",
       "4     {'amenity': 'bank', 'atm': 'yes', 'name': 'Ber...  \n",
       "...                                                 ...  \n",
       "1114  {'amenity': 'atm', 'opening_hours': '24/7', 'o...  \n",
       "1115  {'amenity': 'atm', 'currency:others': 'no', 'o...  \n",
       "1116  {'amenity': 'bank', 'name': 'Deutsche Bank', '...  \n",
       "1117  {'amenity': 'bank', 'atm': 'yes', 'name': 'Ber...  \n",
       "1118           {'amenity': 'atm', 'brand': 'Sparkasse'}  \n",
       "\n",
       "[1119 rows x 5 columns]"
      ]
     },
     "execution_count": 37,
     "metadata": {},
     "output_type": "execute_result"
    }
   ],
   "source": [
    "# Load the data\n",
    "with open ('berlin_atms.json') as data_file:\n",
    " raw_data = json.load(data_file)\n",
    "\n",
    "#Convert data into a data frame\n",
    " raw_data = DataFrame(raw_data)\n",
    "    \n",
    "# Check the data\n",
    "raw_data"
   ]
  },
  {
   "cell_type": "markdown",
   "metadata": {},
   "source": [
    "Remove the duplicate index column from the dataset."
   ]
  },
  {
   "cell_type": "code",
   "execution_count": 21,
   "metadata": {},
   "outputs": [],
   "source": [
    "data = raw_data.copy()"
   ]
  },
  {
   "cell_type": "markdown",
   "metadata": {},
   "source": [
    "# Plot the data"
   ]
  },
  {
   "cell_type": "markdown",
   "metadata": {},
   "source": [
    "Plot the 'Longtitude' and 'Latitude' columns."
   ]
  },
  {
   "cell_type": "code",
   "execution_count": 26,
   "metadata": {},
   "outputs": [
    {
     "data": {
      "image/png": "[encoded data removed]",
      "text/plain": [
       "<Figure size 432x288 with 1 Axes>"
      ]
     },
     "metadata": {},
     "output_type": "display_data"
    }
   ],
   "source": [
    "plt.scatter(data['lon'], data['lat'])\n",
    "\n",
    "plt.show()"
   ]
  },
  {
   "cell_type": "markdown",
   "metadata": {},
   "source": [
    "# Select the features"
   ]
  },
  {
   "cell_type": "markdown",
   "metadata": {},
   "source": [
    "Create a copy of that data and remove all parameters apart from Longitude and Latitude."
   ]
  },
  {
   "cell_type": "code",
   "execution_count": 28,
   "metadata": {},
   "outputs": [
    {
     "data": {
      "text/html": [
       "<div>\n",
       "<style scoped>\n",
       "    .dataframe tbody tr th:only-of-type {\n",
       "        vertical-align: middle;\n",
       "    }\n",
       "\n",
       "    .dataframe tbody tr th {\n",
       "        vertical-align: top;\n",
       "    }\n",
       "\n",
       "    .dataframe thead th {\n",
       "        text-align: right;\n",
       "    }\n",
       "</style>\n",
       "<table border=\"1\" class=\"dataframe\">\n",
       "  <thead>\n",
       "    <tr style=\"text-align: right;\">\n",
       "      <th></th>\n",
       "      <th>lat</th>\n",
       "      <th>lon</th>\n",
       "    </tr>\n",
       "  </thead>\n",
       "  <tbody>\n",
       "    <tr>\n",
       "      <td>0</td>\n",
       "      <td>52.486668</td>\n",
       "      <td>13.319723</td>\n",
       "    </tr>\n",
       "    <tr>\n",
       "      <td>1</td>\n",
       "      <td>52.489024</td>\n",
       "      <td>13.322494</td>\n",
       "    </tr>\n",
       "    <tr>\n",
       "      <td>2</td>\n",
       "      <td>52.531741</td>\n",
       "      <td>13.469267</td>\n",
       "    </tr>\n",
       "    <tr>\n",
       "      <td>3</td>\n",
       "      <td>52.530339</td>\n",
       "      <td>13.471082</td>\n",
       "    </tr>\n",
       "    <tr>\n",
       "      <td>4</td>\n",
       "      <td>52.524584</td>\n",
       "      <td>13.465439</td>\n",
       "    </tr>\n",
       "    <tr>\n",
       "      <td>...</td>\n",
       "      <td>...</td>\n",
       "      <td>...</td>\n",
       "    </tr>\n",
       "    <tr>\n",
       "      <td>1114</td>\n",
       "      <td>52.440239</td>\n",
       "      <td>13.595590</td>\n",
       "    </tr>\n",
       "    <tr>\n",
       "      <td>1115</td>\n",
       "      <td>52.510562</td>\n",
       "      <td>13.437402</td>\n",
       "    </tr>\n",
       "    <tr>\n",
       "      <td>1116</td>\n",
       "      <td>52.508871</td>\n",
       "      <td>13.378956</td>\n",
       "    </tr>\n",
       "    <tr>\n",
       "      <td>1117</td>\n",
       "      <td>52.508887</td>\n",
       "      <td>13.377730</td>\n",
       "    </tr>\n",
       "    <tr>\n",
       "      <td>1118</td>\n",
       "      <td>52.504957</td>\n",
       "      <td>13.442350</td>\n",
       "    </tr>\n",
       "  </tbody>\n",
       "</table>\n",
       "<p>1119 rows × 2 columns</p>\n",
       "</div>"
      ],
      "text/plain": [
       "            lat        lon\n",
       "0     52.486668  13.319723\n",
       "1     52.489024  13.322494\n",
       "2     52.531741  13.469267\n",
       "3     52.530339  13.471082\n",
       "4     52.524584  13.465439\n",
       "...         ...        ...\n",
       "1114  52.440239  13.595590\n",
       "1115  52.510562  13.437402\n",
       "1116  52.508871  13.378956\n",
       "1117  52.508887  13.377730\n",
       "1118  52.504957  13.442350\n",
       "\n",
       "[1119 rows x 2 columns]"
      ]
     },
     "execution_count": 28,
     "metadata": {},
     "output_type": "execute_result"
    }
   ],
   "source": [
    "x = data.iloc[:,2:4]\n",
    "x"
   ]
  },
  {
   "cell_type": "markdown",
   "metadata": {},
   "source": [
    "# Clustering"
   ]
  },
  {
   "cell_type": "markdown",
   "metadata": {},
   "source": [
    "Here's the actual solution:\n",
    "\n",
    "Simply change kmeans = KMeans(2) to kmeans = KMeans(3) .\n",
    "\n",
    "Then run the remaining kernels until the end."
   ]
  },
  {
   "cell_type": "code",
   "execution_count": 38,
   "metadata": {},
   "outputs": [],
   "source": [
    "kmeans = KMeans(4)"
   ]
  },
  {
   "cell_type": "code",
   "execution_count": 39,
   "metadata": {},
   "outputs": [
    {
     "data": {
      "text/plain": [
       "KMeans(algorithm='auto', copy_x=True, init='k-means++', max_iter=300,\n",
       "       n_clusters=4, n_init=10, n_jobs=None, precompute_distances='auto',\n",
       "       random_state=None, tol=0.0001, verbose=0)"
      ]
     },
     "execution_count": 39,
     "metadata": {},
     "output_type": "execute_result"
    }
   ],
   "source": [
    "kmeans.fit(x)"
   ]
  },
  {
   "cell_type": "markdown",
   "metadata": {},
   "source": [
    "# Clustering Resutls"
   ]
  },
  {
   "cell_type": "code",
   "execution_count": 40,
   "metadata": {},
   "outputs": [
    {
     "data": {
      "text/plain": [
       "array([3, 3, 1, ..., 1, 1, 1], dtype=int32)"
      ]
     },
     "execution_count": 40,
     "metadata": {},
     "output_type": "execute_result"
    }
   ],
   "source": [
    "identified_clusters = kmeans.fit_predict(x)\n",
    "identified_clusters"
   ]
  },
  {
   "cell_type": "code",
   "execution_count": 41,
   "metadata": {},
   "outputs": [
    {
     "data": {
      "text/html": [
       "<div>\n",
       "<style scoped>\n",
       "    .dataframe tbody tr th:only-of-type {\n",
       "        vertical-align: middle;\n",
       "    }\n",
       "\n",
       "    .dataframe tbody tr th {\n",
       "        vertical-align: top;\n",
       "    }\n",
       "\n",
       "    .dataframe thead th {\n",
       "        text-align: right;\n",
       "    }\n",
       "</style>\n",
       "<table border=\"1\" class=\"dataframe\">\n",
       "  <thead>\n",
       "    <tr style=\"text-align: right;\">\n",
       "      <th></th>\n",
       "      <th>type</th>\n",
       "      <th>id</th>\n",
       "      <th>lat</th>\n",
       "      <th>lon</th>\n",
       "      <th>tags</th>\n",
       "      <th>Cluster</th>\n",
       "    </tr>\n",
       "  </thead>\n",
       "  <tbody>\n",
       "    <tr>\n",
       "      <td>0</td>\n",
       "      <td>node</td>\n",
       "      <td>28968292</td>\n",
       "      <td>52.486668</td>\n",
       "      <td>13.319723</td>\n",
       "      <td>{'addr:city': 'Berlin', 'addr:country': 'DE', ...</td>\n",
       "      <td>3</td>\n",
       "    </tr>\n",
       "    <tr>\n",
       "      <td>1</td>\n",
       "      <td>node</td>\n",
       "      <td>28968295</td>\n",
       "      <td>52.489024</td>\n",
       "      <td>13.322494</td>\n",
       "      <td>{'amenity': 'bank', 'name': 'Postbank AG', 'op...</td>\n",
       "      <td>3</td>\n",
       "    </tr>\n",
       "    <tr>\n",
       "      <td>2</td>\n",
       "      <td>node</td>\n",
       "      <td>60848449</td>\n",
       "      <td>52.531741</td>\n",
       "      <td>13.469267</td>\n",
       "      <td>{'amenity': 'atm', 'name': 'Deutsche Bank', 'o...</td>\n",
       "      <td>1</td>\n",
       "    </tr>\n",
       "    <tr>\n",
       "      <td>3</td>\n",
       "      <td>node</td>\n",
       "      <td>60848455</td>\n",
       "      <td>52.530339</td>\n",
       "      <td>13.471082</td>\n",
       "      <td>{'addr:city': 'Berlin', 'addr:housenumber': '1...</td>\n",
       "      <td>1</td>\n",
       "    </tr>\n",
       "    <tr>\n",
       "      <td>4</td>\n",
       "      <td>node</td>\n",
       "      <td>60852951</td>\n",
       "      <td>52.524584</td>\n",
       "      <td>13.465439</td>\n",
       "      <td>{'amenity': 'bank', 'atm': 'yes', 'name': 'Ber...</td>\n",
       "      <td>1</td>\n",
       "    </tr>\n",
       "    <tr>\n",
       "      <td>...</td>\n",
       "      <td>...</td>\n",
       "      <td>...</td>\n",
       "      <td>...</td>\n",
       "      <td>...</td>\n",
       "      <td>...</td>\n",
       "      <td>...</td>\n",
       "    </tr>\n",
       "    <tr>\n",
       "      <td>1114</td>\n",
       "      <td>node</td>\n",
       "      <td>6010650298</td>\n",
       "      <td>52.440239</td>\n",
       "      <td>13.595590</td>\n",
       "      <td>{'amenity': 'atm', 'opening_hours': '24/7', 'o...</td>\n",
       "      <td>0</td>\n",
       "    </tr>\n",
       "    <tr>\n",
       "      <td>1115</td>\n",
       "      <td>node</td>\n",
       "      <td>6037152592</td>\n",
       "      <td>52.510562</td>\n",
       "      <td>13.437402</td>\n",
       "      <td>{'amenity': 'atm', 'currency:others': 'no', 'o...</td>\n",
       "      <td>1</td>\n",
       "    </tr>\n",
       "    <tr>\n",
       "      <td>1116</td>\n",
       "      <td>node</td>\n",
       "      <td>6044549331</td>\n",
       "      <td>52.508871</td>\n",
       "      <td>13.378956</td>\n",
       "      <td>{'amenity': 'bank', 'name': 'Deutsche Bank', '...</td>\n",
       "      <td>1</td>\n",
       "    </tr>\n",
       "    <tr>\n",
       "      <td>1117</td>\n",
       "      <td>node</td>\n",
       "      <td>6044549333</td>\n",
       "      <td>52.508887</td>\n",
       "      <td>13.377730</td>\n",
       "      <td>{'amenity': 'bank', 'atm': 'yes', 'name': 'Ber...</td>\n",
       "      <td>1</td>\n",
       "    </tr>\n",
       "    <tr>\n",
       "      <td>1118</td>\n",
       "      <td>node</td>\n",
       "      <td>6058229934</td>\n",
       "      <td>52.504957</td>\n",
       "      <td>13.442350</td>\n",
       "      <td>{'amenity': 'atm', 'brand': 'Sparkasse'}</td>\n",
       "      <td>1</td>\n",
       "    </tr>\n",
       "  </tbody>\n",
       "</table>\n",
       "<p>1119 rows × 6 columns</p>\n",
       "</div>"
      ],
      "text/plain": [
       "      type          id        lat        lon  \\\n",
       "0     node    28968292  52.486668  13.319723   \n",
       "1     node    28968295  52.489024  13.322494   \n",
       "2     node    60848449  52.531741  13.469267   \n",
       "3     node    60848455  52.530339  13.471082   \n",
       "4     node    60852951  52.524584  13.465439   \n",
       "...    ...         ...        ...        ...   \n",
       "1114  node  6010650298  52.440239  13.595590   \n",
       "1115  node  6037152592  52.510562  13.437402   \n",
       "1116  node  6044549331  52.508871  13.378956   \n",
       "1117  node  6044549333  52.508887  13.377730   \n",
       "1118  node  6058229934  52.504957  13.442350   \n",
       "\n",
       "                                                   tags  Cluster  \n",
       "0     {'addr:city': 'Berlin', 'addr:country': 'DE', ...        3  \n",
       "1     {'amenity': 'bank', 'name': 'Postbank AG', 'op...        3  \n",
       "2     {'amenity': 'atm', 'name': 'Deutsche Bank', 'o...        1  \n",
       "3     {'addr:city': 'Berlin', 'addr:housenumber': '1...        1  \n",
       "4     {'amenity': 'bank', 'atm': 'yes', 'name': 'Ber...        1  \n",
       "...                                                 ...      ...  \n",
       "1114  {'amenity': 'atm', 'opening_hours': '24/7', 'o...        0  \n",
       "1115  {'amenity': 'atm', 'currency:others': 'no', 'o...        1  \n",
       "1116  {'amenity': 'bank', 'name': 'Deutsche Bank', '...        1  \n",
       "1117  {'amenity': 'bank', 'atm': 'yes', 'name': 'Ber...        1  \n",
       "1118           {'amenity': 'atm', 'brand': 'Sparkasse'}        1  \n",
       "\n",
       "[1119 rows x 6 columns]"
      ]
     },
     "execution_count": 41,
     "metadata": {},
     "output_type": "execute_result"
    }
   ],
   "source": [
    "data_with_clusters = data.copy()\n",
    "data_with_clusters['Cluster'] = identified_clusters\n",
    "data_with_clusters"
   ]
  },
  {
   "cell_type": "code",
   "execution_count": 42,
   "metadata": {},
   "outputs": [
    {
     "data": {
      "image/png": "[encoded data removed]",
      "text/plain": [
       "<Figure size 432x288 with 1 Axes>"
      ]
     },
     "metadata": {},
     "output_type": "display_data"
    }
   ],
   "source": [
    "plt.scatter(data['lon'], data['lat'],c=data_with_clusters['Cluster'], cmap = 'rainbow')\n",
    "plt.show()"
   ]
  },
  {
   "cell_type": "code",
   "execution_count": null,
   "metadata": {},
   "outputs": [],
   "source": []
  }
 ],
 "metadata": {
  "kernelspec": {
   "display_name": "Python 3",
   "language": "python",
   "name": "python3"
  },
  "language_info": {
   "codemirror_mode": {
    "name": "ipython",
    "version": 3
   },
   "file_extension": ".py",
   "mimetype": "text/x-python",
   "name": "python",
   "nbconvert_exporter": "python",
   "pygments_lexer": "ipython3",
   "version": "3.7.4"
  }
 },
 "nbformat": 4,
 "nbformat_minor": 2
}
